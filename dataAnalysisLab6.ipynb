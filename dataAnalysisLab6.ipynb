{
 "cells": [
  {
   "cell_type": "markdown",
   "metadata": {},
   "source": [
    "Лабораторна робота № 6\n",
    "Смислов Даніл\n",
    "ІП-01\n",
    "\n",
    "Спочатку імпортуємо потрібні для роботи бібліотеки"
   ]
  },
  {
   "cell_type": "code",
   "execution_count": 1,
   "metadata": {},
   "outputs": [],
   "source": [
    "import pandas as pd \n",
    "import matplotlib.pyplot as plt\n",
    "import numpy as np\n"
   ]
  },
  {
   "cell_type": "markdown",
   "metadata": {},
   "source": [
    "Далі імпортуємо дані з файлу titanic.csv з кодуванням 'cp1252' та розділювачем ','. Розглянемо структуру датафрейму."
   ]
  },
  {
   "cell_type": "code",
   "execution_count": 2,
   "metadata": {},
   "outputs": [
    {
     "name": "stdout",
     "output_type": "stream",
     "text": [
      "<class 'pandas.core.frame.DataFrame'>\n",
      "RangeIndex: 891 entries, 0 to 890\n",
      "Data columns (total 12 columns):\n",
      " #   Column       Non-Null Count  Dtype  \n",
      "---  ------       --------------  -----  \n",
      " 0   PassengerId  891 non-null    int64  \n",
      " 1   Survived     891 non-null    int64  \n",
      " 2   Pclass       891 non-null    int64  \n",
      " 3   Name         891 non-null    object \n",
      " 4   Sex          891 non-null    object \n",
      " 5   Age          714 non-null    float64\n",
      " 6   SibSp        891 non-null    int64  \n",
      " 7   Parch        891 non-null    int64  \n",
      " 8   Ticket       891 non-null    object \n",
      " 9   Fare         891 non-null    float64\n",
      " 10  Cabin        204 non-null    object \n",
      " 11  Embarked     889 non-null    object \n",
      "dtypes: float64(2), int64(5), object(5)\n",
      "memory usage: 83.7+ KB\n"
     ]
    },
    {
     "data": {
      "text/html": [
       "<div>\n",
       "<style scoped>\n",
       "    .dataframe tbody tr th:only-of-type {\n",
       "        vertical-align: middle;\n",
       "    }\n",
       "\n",
       "    .dataframe tbody tr th {\n",
       "        vertical-align: top;\n",
       "    }\n",
       "\n",
       "    .dataframe thead th {\n",
       "        text-align: right;\n",
       "    }\n",
       "</style>\n",
       "<table border=\"1\" class=\"dataframe\">\n",
       "  <thead>\n",
       "    <tr style=\"text-align: right;\">\n",
       "      <th></th>\n",
       "      <th>PassengerId</th>\n",
       "      <th>Survived</th>\n",
       "      <th>Pclass</th>\n",
       "      <th>Name</th>\n",
       "      <th>Sex</th>\n",
       "      <th>Age</th>\n",
       "      <th>SibSp</th>\n",
       "      <th>Parch</th>\n",
       "      <th>Ticket</th>\n",
       "      <th>Fare</th>\n",
       "      <th>Cabin</th>\n",
       "      <th>Embarked</th>\n",
       "    </tr>\n",
       "  </thead>\n",
       "  <tbody>\n",
       "    <tr>\n",
       "      <th>0</th>\n",
       "      <td>1</td>\n",
       "      <td>0</td>\n",
       "      <td>3</td>\n",
       "      <td>Braund, Mr. Owen Harris</td>\n",
       "      <td>male</td>\n",
       "      <td>22.0</td>\n",
       "      <td>1</td>\n",
       "      <td>0</td>\n",
       "      <td>A/5 21171</td>\n",
       "      <td>7.2500</td>\n",
       "      <td>NaN</td>\n",
       "      <td>S</td>\n",
       "    </tr>\n",
       "    <tr>\n",
       "      <th>1</th>\n",
       "      <td>2</td>\n",
       "      <td>1</td>\n",
       "      <td>1</td>\n",
       "      <td>Cumings, Mrs. John Bradley (Florence Briggs Th...</td>\n",
       "      <td>female</td>\n",
       "      <td>38.0</td>\n",
       "      <td>1</td>\n",
       "      <td>0</td>\n",
       "      <td>PC 17599</td>\n",
       "      <td>71.2833</td>\n",
       "      <td>C85</td>\n",
       "      <td>C</td>\n",
       "    </tr>\n",
       "    <tr>\n",
       "      <th>2</th>\n",
       "      <td>3</td>\n",
       "      <td>1</td>\n",
       "      <td>3</td>\n",
       "      <td>Heikkinen, Miss. Laina</td>\n",
       "      <td>female</td>\n",
       "      <td>26.0</td>\n",
       "      <td>0</td>\n",
       "      <td>0</td>\n",
       "      <td>STON/O2. 3101282</td>\n",
       "      <td>7.9250</td>\n",
       "      <td>NaN</td>\n",
       "      <td>S</td>\n",
       "    </tr>\n",
       "    <tr>\n",
       "      <th>3</th>\n",
       "      <td>4</td>\n",
       "      <td>1</td>\n",
       "      <td>1</td>\n",
       "      <td>Futrelle, Mrs. Jacques Heath (Lily May Peel)</td>\n",
       "      <td>female</td>\n",
       "      <td>35.0</td>\n",
       "      <td>1</td>\n",
       "      <td>0</td>\n",
       "      <td>113803</td>\n",
       "      <td>53.1000</td>\n",
       "      <td>C123</td>\n",
       "      <td>S</td>\n",
       "    </tr>\n",
       "    <tr>\n",
       "      <th>4</th>\n",
       "      <td>5</td>\n",
       "      <td>0</td>\n",
       "      <td>3</td>\n",
       "      <td>Allen, Mr. William Henry</td>\n",
       "      <td>male</td>\n",
       "      <td>35.0</td>\n",
       "      <td>0</td>\n",
       "      <td>0</td>\n",
       "      <td>373450</td>\n",
       "      <td>8.0500</td>\n",
       "      <td>NaN</td>\n",
       "      <td>S</td>\n",
       "    </tr>\n",
       "    <tr>\n",
       "      <th>5</th>\n",
       "      <td>6</td>\n",
       "      <td>0</td>\n",
       "      <td>3</td>\n",
       "      <td>Moran, Mr. James</td>\n",
       "      <td>male</td>\n",
       "      <td>NaN</td>\n",
       "      <td>0</td>\n",
       "      <td>0</td>\n",
       "      <td>330877</td>\n",
       "      <td>8.4583</td>\n",
       "      <td>NaN</td>\n",
       "      <td>Q</td>\n",
       "    </tr>\n",
       "    <tr>\n",
       "      <th>6</th>\n",
       "      <td>7</td>\n",
       "      <td>0</td>\n",
       "      <td>1</td>\n",
       "      <td>McCarthy, Mr. Timothy J</td>\n",
       "      <td>male</td>\n",
       "      <td>54.0</td>\n",
       "      <td>0</td>\n",
       "      <td>0</td>\n",
       "      <td>17463</td>\n",
       "      <td>51.8625</td>\n",
       "      <td>E46</td>\n",
       "      <td>S</td>\n",
       "    </tr>\n",
       "    <tr>\n",
       "      <th>7</th>\n",
       "      <td>8</td>\n",
       "      <td>0</td>\n",
       "      <td>3</td>\n",
       "      <td>Palsson, Master. Gosta Leonard</td>\n",
       "      <td>male</td>\n",
       "      <td>2.0</td>\n",
       "      <td>3</td>\n",
       "      <td>1</td>\n",
       "      <td>349909</td>\n",
       "      <td>21.0750</td>\n",
       "      <td>NaN</td>\n",
       "      <td>S</td>\n",
       "    </tr>\n",
       "    <tr>\n",
       "      <th>8</th>\n",
       "      <td>9</td>\n",
       "      <td>1</td>\n",
       "      <td>3</td>\n",
       "      <td>Johnson, Mrs. Oscar W (Elisabeth Vilhelmina Berg)</td>\n",
       "      <td>female</td>\n",
       "      <td>27.0</td>\n",
       "      <td>0</td>\n",
       "      <td>2</td>\n",
       "      <td>347742</td>\n",
       "      <td>11.1333</td>\n",
       "      <td>NaN</td>\n",
       "      <td>S</td>\n",
       "    </tr>\n",
       "    <tr>\n",
       "      <th>9</th>\n",
       "      <td>10</td>\n",
       "      <td>1</td>\n",
       "      <td>2</td>\n",
       "      <td>Nasser, Mrs. Nicholas (Adele Achem)</td>\n",
       "      <td>female</td>\n",
       "      <td>14.0</td>\n",
       "      <td>1</td>\n",
       "      <td>0</td>\n",
       "      <td>237736</td>\n",
       "      <td>30.0708</td>\n",
       "      <td>NaN</td>\n",
       "      <td>C</td>\n",
       "    </tr>\n",
       "  </tbody>\n",
       "</table>\n",
       "</div>"
      ],
      "text/plain": [
       "   PassengerId  Survived  Pclass  \\\n",
       "0            1         0       3   \n",
       "1            2         1       1   \n",
       "2            3         1       3   \n",
       "3            4         1       1   \n",
       "4            5         0       3   \n",
       "5            6         0       3   \n",
       "6            7         0       1   \n",
       "7            8         0       3   \n",
       "8            9         1       3   \n",
       "9           10         1       2   \n",
       "\n",
       "                                                Name     Sex   Age  SibSp  \\\n",
       "0                            Braund, Mr. Owen Harris    male  22.0      1   \n",
       "1  Cumings, Mrs. John Bradley (Florence Briggs Th...  female  38.0      1   \n",
       "2                             Heikkinen, Miss. Laina  female  26.0      0   \n",
       "3       Futrelle, Mrs. Jacques Heath (Lily May Peel)  female  35.0      1   \n",
       "4                           Allen, Mr. William Henry    male  35.0      0   \n",
       "5                                   Moran, Mr. James    male   NaN      0   \n",
       "6                            McCarthy, Mr. Timothy J    male  54.0      0   \n",
       "7                     Palsson, Master. Gosta Leonard    male   2.0      3   \n",
       "8  Johnson, Mrs. Oscar W (Elisabeth Vilhelmina Berg)  female  27.0      0   \n",
       "9                Nasser, Mrs. Nicholas (Adele Achem)  female  14.0      1   \n",
       "\n",
       "   Parch            Ticket     Fare Cabin Embarked  \n",
       "0      0         A/5 21171   7.2500   NaN        S  \n",
       "1      0          PC 17599  71.2833   C85        C  \n",
       "2      0  STON/O2. 3101282   7.9250   NaN        S  \n",
       "3      0            113803  53.1000  C123        S  \n",
       "4      0            373450   8.0500   NaN        S  \n",
       "5      0            330877   8.4583   NaN        Q  \n",
       "6      0             17463  51.8625   E46        S  \n",
       "7      1            349909  21.0750   NaN        S  \n",
       "8      2            347742  11.1333   NaN        S  \n",
       "9      0            237736  30.0708   NaN        C  "
      ]
     },
     "execution_count": 2,
     "metadata": {},
     "output_type": "execute_result"
    }
   ],
   "source": [
    "def getDataset():\n",
    "    data = pd.read_csv('titanic.csv',sep=',',encoding='cp1252',decimal='.')\n",
    "    return data \n",
    "\n",
    "dataset = getDataset()\n",
    "dataset.info()\n",
    "dataset.head(10)"
   ]
  },
  {
   "cell_type": "markdown",
   "metadata": {},
   "source": [
    "Давайте змінимо тип стовпчику 'Pclass'"
   ]
  },
  {
   "cell_type": "code",
   "execution_count": 3,
   "metadata": {},
   "outputs": [
    {
     "name": "stdout",
     "output_type": "stream",
     "text": [
      "<class 'pandas.core.frame.DataFrame'>\n",
      "RangeIndex: 891 entries, 0 to 890\n",
      "Data columns (total 12 columns):\n",
      " #   Column       Non-Null Count  Dtype  \n",
      "---  ------       --------------  -----  \n",
      " 0   PassengerId  891 non-null    int64  \n",
      " 1   Survived     891 non-null    int64  \n",
      " 2   Pclass       891 non-null    object \n",
      " 3   Name         891 non-null    object \n",
      " 4   Sex          891 non-null    object \n",
      " 5   Age          714 non-null    float64\n",
      " 6   SibSp        891 non-null    int64  \n",
      " 7   Parch        891 non-null    int64  \n",
      " 8   Ticket       891 non-null    object \n",
      " 9   Fare         891 non-null    float64\n",
      " 10  Cabin        204 non-null    object \n",
      " 11  Embarked     889 non-null    object \n",
      "dtypes: float64(2), int64(4), object(6)\n",
      "memory usage: 83.7+ KB\n"
     ]
    }
   ],
   "source": [
    "dataset['Pclass'] = dataset['Pclass'].astype(str)\n",
    "dataset.info()"
   ]
  },
  {
   "cell_type": "markdown",
   "metadata": {},
   "source": [
    "Тепер давайте видалимо стовпчики, які нам не будуть потрібні для побудови моделі."
   ]
  },
  {
   "cell_type": "code",
   "execution_count": 4,
   "metadata": {},
   "outputs": [
    {
     "data": {
      "text/html": [
       "<div>\n",
       "<style scoped>\n",
       "    .dataframe tbody tr th:only-of-type {\n",
       "        vertical-align: middle;\n",
       "    }\n",
       "\n",
       "    .dataframe tbody tr th {\n",
       "        vertical-align: top;\n",
       "    }\n",
       "\n",
       "    .dataframe thead th {\n",
       "        text-align: right;\n",
       "    }\n",
       "</style>\n",
       "<table border=\"1\" class=\"dataframe\">\n",
       "  <thead>\n",
       "    <tr style=\"text-align: right;\">\n",
       "      <th></th>\n",
       "      <th>Survived</th>\n",
       "      <th>Pclass</th>\n",
       "      <th>Sex</th>\n",
       "      <th>Age</th>\n",
       "      <th>SibSp</th>\n",
       "      <th>Parch</th>\n",
       "      <th>Fare</th>\n",
       "      <th>Cabin</th>\n",
       "      <th>Embarked</th>\n",
       "    </tr>\n",
       "  </thead>\n",
       "  <tbody>\n",
       "    <tr>\n",
       "      <th>0</th>\n",
       "      <td>0</td>\n",
       "      <td>3</td>\n",
       "      <td>male</td>\n",
       "      <td>22.0</td>\n",
       "      <td>1</td>\n",
       "      <td>0</td>\n",
       "      <td>7.2500</td>\n",
       "      <td>NaN</td>\n",
       "      <td>S</td>\n",
       "    </tr>\n",
       "    <tr>\n",
       "      <th>1</th>\n",
       "      <td>1</td>\n",
       "      <td>1</td>\n",
       "      <td>female</td>\n",
       "      <td>38.0</td>\n",
       "      <td>1</td>\n",
       "      <td>0</td>\n",
       "      <td>71.2833</td>\n",
       "      <td>C85</td>\n",
       "      <td>C</td>\n",
       "    </tr>\n",
       "  </tbody>\n",
       "</table>\n",
       "</div>"
      ],
      "text/plain": [
       "   Survived Pclass     Sex   Age  SibSp  Parch     Fare Cabin Embarked\n",
       "0         0      3    male  22.0      1      0   7.2500   NaN        S\n",
       "1         1      1  female  38.0      1      0  71.2833   C85        C"
      ]
     },
     "execution_count": 4,
     "metadata": {},
     "output_type": "execute_result"
    }
   ],
   "source": [
    "dataset = dataset.drop(columns=['PassengerId','Name','Ticket'])\n",
    "\n",
    "dataset.head(2)"
   ]
  },
  {
   "cell_type": "markdown",
   "metadata": {},
   "source": [
    "Давайте перевіримо дані на пропуски."
   ]
  },
  {
   "cell_type": "code",
   "execution_count": 5,
   "metadata": {},
   "outputs": [
    {
     "data": {
      "image/png": "[encoded data removed]",
      "text/plain": [
       "<Figure size 864x864 with 2 Axes>"
      ]
     },
     "metadata": {
      "needs_background": "light"
     },
     "output_type": "display_data"
    }
   ],
   "source": [
    "import matplotlib.patches as mpatches\n",
    "import seaborn as sbrn\n",
    "plt.figure(figsize =(12,12))\n",
    "plt.title('Heat map of missing data')\n",
    "lst = []\n",
    "is_patch =mpatches.Patch(color = 'black', label = 'Data')\n",
    "non_patch =mpatches.Patch(color = 'white', label = 'Missing data')\n",
    "lst.append(is_patch)\n",
    "lst.append(non_patch)\n",
    "plt.legend(handles = lst,bbox_to_anchor = (1,1))\n",
    "sbrn.heatmap(dataset.isna(),cmap = sbrn.color_palette(['Black','White']))\n",
    "plt.show()\n"
   ]
  },
  {
   "cell_type": "markdown",
   "metadata": {},
   "source": [
    "Тепер давайте ще подивимось на к-сть пропущених даних."
   ]
  },
  {
   "cell_type": "code",
   "execution_count": 6,
   "metadata": {},
   "outputs": [
    {
     "data": {
      "text/html": [
       "<div>\n",
       "<style scoped>\n",
       "    .dataframe tbody tr th:only-of-type {\n",
       "        vertical-align: middle;\n",
       "    }\n",
       "\n",
       "    .dataframe tbody tr th {\n",
       "        vertical-align: top;\n",
       "    }\n",
       "\n",
       "    .dataframe thead th {\n",
       "        text-align: right;\n",
       "    }\n",
       "</style>\n",
       "<table border=\"1\" class=\"dataframe\">\n",
       "  <thead>\n",
       "    <tr style=\"text-align: right;\">\n",
       "      <th></th>\n",
       "      <th>Number NaN</th>\n",
       "      <th>Percent NaN</th>\n",
       "    </tr>\n",
       "  </thead>\n",
       "  <tbody>\n",
       "    <tr>\n",
       "      <th>Cabin</th>\n",
       "      <td>687</td>\n",
       "      <td>77.104377</td>\n",
       "    </tr>\n",
       "    <tr>\n",
       "      <th>Age</th>\n",
       "      <td>177</td>\n",
       "      <td>19.865320</td>\n",
       "    </tr>\n",
       "    <tr>\n",
       "      <th>Embarked</th>\n",
       "      <td>2</td>\n",
       "      <td>0.224467</td>\n",
       "    </tr>\n",
       "    <tr>\n",
       "      <th>Survived</th>\n",
       "      <td>0</td>\n",
       "      <td>0.000000</td>\n",
       "    </tr>\n",
       "    <tr>\n",
       "      <th>Pclass</th>\n",
       "      <td>0</td>\n",
       "      <td>0.000000</td>\n",
       "    </tr>\n",
       "    <tr>\n",
       "      <th>Sex</th>\n",
       "      <td>0</td>\n",
       "      <td>0.000000</td>\n",
       "    </tr>\n",
       "    <tr>\n",
       "      <th>SibSp</th>\n",
       "      <td>0</td>\n",
       "      <td>0.000000</td>\n",
       "    </tr>\n",
       "    <tr>\n",
       "      <th>Parch</th>\n",
       "      <td>0</td>\n",
       "      <td>0.000000</td>\n",
       "    </tr>\n",
       "    <tr>\n",
       "      <th>Fare</th>\n",
       "      <td>0</td>\n",
       "      <td>0.000000</td>\n",
       "    </tr>\n",
       "  </tbody>\n",
       "</table>\n",
       "</div>"
      ],
      "text/plain": [
       "          Number NaN  Percent NaN\n",
       "Cabin            687    77.104377\n",
       "Age              177    19.865320\n",
       "Embarked           2     0.224467\n",
       "Survived           0     0.000000\n",
       "Pclass             0     0.000000\n",
       "Sex                0     0.000000\n",
       "SibSp              0     0.000000\n",
       "Parch              0     0.000000\n",
       "Fare               0     0.000000"
      ]
     },
     "execution_count": 6,
     "metadata": {},
     "output_type": "execute_result"
    }
   ],
   "source": [
    "number = dataset.isnull().sum().sort_values(ascending=False)\n",
    "percent = (number / (dataset.count()+dataset.isnull().sum())*100).sort_values(ascending=False)\n",
    "missingData = pd.concat([number,percent],axis=1,keys = ['Number NaN','Percent NaN'])\n",
    "missingData.head(10)"
   ]
  },
  {
   "cell_type": "markdown",
   "metadata": {},
   "source": [
    "Як ми бачимо, стовпець 'Cabin' має досить багато пропущених значень, тому давайте видалимо його. В стовцях 'Age' та 'Embarked' замінимо пропущені значення моди."
   ]
  },
  {
   "cell_type": "code",
   "execution_count": 7,
   "metadata": {},
   "outputs": [
    {
     "data": {
      "text/html": [
       "<div>\n",
       "<style scoped>\n",
       "    .dataframe tbody tr th:only-of-type {\n",
       "        vertical-align: middle;\n",
       "    }\n",
       "\n",
       "    .dataframe tbody tr th {\n",
       "        vertical-align: top;\n",
       "    }\n",
       "\n",
       "    .dataframe thead th {\n",
       "        text-align: right;\n",
       "    }\n",
       "</style>\n",
       "<table border=\"1\" class=\"dataframe\">\n",
       "  <thead>\n",
       "    <tr style=\"text-align: right;\">\n",
       "      <th></th>\n",
       "      <th>Number NaN</th>\n",
       "      <th>Percent NaN</th>\n",
       "    </tr>\n",
       "  </thead>\n",
       "  <tbody>\n",
       "    <tr>\n",
       "      <th>Survived</th>\n",
       "      <td>0</td>\n",
       "      <td>0.0</td>\n",
       "    </tr>\n",
       "    <tr>\n",
       "      <th>Pclass</th>\n",
       "      <td>0</td>\n",
       "      <td>0.0</td>\n",
       "    </tr>\n",
       "    <tr>\n",
       "      <th>Sex</th>\n",
       "      <td>0</td>\n",
       "      <td>0.0</td>\n",
       "    </tr>\n",
       "    <tr>\n",
       "      <th>Age</th>\n",
       "      <td>0</td>\n",
       "      <td>0.0</td>\n",
       "    </tr>\n",
       "    <tr>\n",
       "      <th>SibSp</th>\n",
       "      <td>0</td>\n",
       "      <td>0.0</td>\n",
       "    </tr>\n",
       "    <tr>\n",
       "      <th>Parch</th>\n",
       "      <td>0</td>\n",
       "      <td>0.0</td>\n",
       "    </tr>\n",
       "    <tr>\n",
       "      <th>Fare</th>\n",
       "      <td>0</td>\n",
       "      <td>0.0</td>\n",
       "    </tr>\n",
       "    <tr>\n",
       "      <th>Embarked</th>\n",
       "      <td>0</td>\n",
       "      <td>0.0</td>\n",
       "    </tr>\n",
       "  </tbody>\n",
       "</table>\n",
       "</div>"
      ],
      "text/plain": [
       "          Number NaN  Percent NaN\n",
       "Survived           0          0.0\n",
       "Pclass             0          0.0\n",
       "Sex                0          0.0\n",
       "Age                0          0.0\n",
       "SibSp              0          0.0\n",
       "Parch              0          0.0\n",
       "Fare               0          0.0\n",
       "Embarked           0          0.0"
      ]
     },
     "execution_count": 7,
     "metadata": {},
     "output_type": "execute_result"
    }
   ],
   "source": [
    "dataset = dataset.drop(columns = 'Cabin')\n",
    "dataset['Embarked'] = dataset['Embarked'].fillna(dataset['Embarked'].mode()[0])\n",
    "dataset['Age'] = dataset['Age'].fillna(dataset['Age'].mode()[0])\n",
    "number = dataset.isnull().sum().sort_values(ascending=False)\n",
    "percent = (number / (dataset.count()+dataset.isnull().sum())*100).sort_values(ascending=False)\n",
    "missingData = pd.concat([number,percent],axis=1,keys = ['Number NaN','Percent NaN'])\n",
    "missingData.head(10)"
   ]
  },
  {
   "cell_type": "markdown",
   "metadata": {},
   "source": [
    "Як ми бачимо, тепер всі дані заповненні, тож ми готові працювати з даними. Тепер давайте розподілимо дані на тренувальні та дані для тесту."
   ]
  },
  {
   "cell_type": "code",
   "execution_count": 8,
   "metadata": {},
   "outputs": [],
   "source": [
    "from sklearn.model_selection import train_test_split\n",
    "trainingData, testingData  = train_test_split(dataset,test_size=0.2,random_state = 1)\n",
    "features = pd.concat([trainingData,testingData]).reset_index(drop = True)\n",
    "features = pd.get_dummies(features)\n",
    "trainingData = features.iloc[:trainingData.shape[0],:]\n",
    "testingData = features.iloc[trainingData.shape[0]:,:]\n"
   ]
  },
  {
   "cell_type": "markdown",
   "metadata": {},
   "source": [
    "Тепер визначимо змінні X та Y для тренувальних та тестувальних даних."
   ]
  },
  {
   "cell_type": "code",
   "execution_count": 9,
   "metadata": {},
   "outputs": [
    {
     "name": "stdout",
     "output_type": "stream",
     "text": [
      "0      1\n",
      "1      1\n",
      "2      1\n",
      "3      0\n",
      "4      1\n",
      "      ..\n",
      "707    0\n",
      "708    0\n",
      "709    0\n",
      "710    0\n",
      "711    0\n",
      "Name: Survived, Length: 712, dtype: int64\n"
     ]
    }
   ],
   "source": [
    "trainingX  = trainingData.drop(columns='Survived')\n",
    "trainingY = trainingData['Survived']\n",
    "\n",
    "testingX  = testingData.drop(columns='Survived')\n",
    "testingY = testingData['Survived']\n",
    "\n",
    "print(trainingY)"
   ]
  },
  {
   "cell_type": "markdown",
   "metadata": {},
   "source": [
    "Додамо необхідні бібліотеки для побудови моделей, побудуємо їх та перевіримо на тестових даних. Спочатку класифікатор Decision Tree."
   ]
  },
  {
   "cell_type": "code",
   "execution_count": 10,
   "metadata": {},
   "outputs": [
    {
     "name": "stdout",
     "output_type": "stream",
     "text": [
      "Cvs in Decision Tree: 0.83430513148823\n",
      "Score of Decision Tree: 0.8044692737430168\n"
     ]
    }
   ],
   "source": [
    "from sklearn.tree import DecisionTreeClassifier\n",
    "from sklearn.ensemble import RandomForestClassifier\n",
    "from sklearn.ensemble import AdaBoostClassifier\n",
    "from sklearn.ensemble import GradientBoostingClassifier\n",
    "from sklearn.model_selection import cross_val_score\n",
    "decisionTree = DecisionTreeClassifier(max_depth=3,random_state=1)\n",
    "tree_scores = cross_val_score(decisionTree,trainingX,trainingY,cv = 5)\n",
    "print('Cvs in Decision Tree:', tree_scores.mean())\n",
    "decisionTree.fit(trainingX,trainingY)\n",
    "print('Score of Decision Tree:',decisionTree.score(testingX,testingY)) "
   ]
  },
  {
   "cell_type": "markdown",
   "metadata": {},
   "source": [
    "Тепер класифікатор Random Forest. "
   ]
  },
  {
   "cell_type": "code",
   "execution_count": 11,
   "metadata": {},
   "outputs": [
    {
     "name": "stdout",
     "output_type": "stream",
     "text": [
      "Cvs in Random Forest: 0.8413473850093569\n",
      "Score of Random Forest: 0.776536312849162\n"
     ]
    }
   ],
   "source": [
    "randomForest = RandomForestClassifier(max_depth=5)\n",
    "tree_scores = cross_val_score(randomForest,trainingX,trainingY,cv = 5)\n",
    "print('Cvs in Random Forest:', tree_scores.mean())\n",
    "randomForest.fit(trainingX,trainingY)\n",
    "print('Score of Random Forest:',randomForest.score(testingX,testingY)) "
   ]
  },
  {
   "cell_type": "markdown",
   "metadata": {},
   "source": [
    "Тепер класифікатор Gradient Boosting."
   ]
  },
  {
   "cell_type": "code",
   "execution_count": 12,
   "metadata": {},
   "outputs": [
    {
     "name": "stdout",
     "output_type": "stream",
     "text": [
      "Cvs in Gradient Boosting: 0.827331823106471\n",
      "Score of Gradient Boosting: 0.7877094972067039\n"
     ]
    }
   ],
   "source": [
    "gradientBoosting = GradientBoostingClassifier(learning_rate = 0.1)\n",
    "tree_scores = cross_val_score(gradientBoosting,trainingX,trainingY,cv = 5)\n",
    "print('Cvs in Gradient Boosting:', tree_scores.mean())\n",
    "gradientBoosting.fit(trainingX,trainingY)\n",
    "print('Score of Gradient Boosting:',gradientBoosting.score(testingX,testingY)) "
   ]
  },
  {
   "cell_type": "markdown",
   "metadata": {},
   "source": [
    "Тепер класифікатор AdaBoost."
   ]
  },
  {
   "cell_type": "code",
   "execution_count": 13,
   "metadata": {},
   "outputs": [
    {
     "name": "stdout",
     "output_type": "stream",
     "text": [
      "Cvs in Ada Boosting: 0.8062543090712104\n",
      "Score of Ada Boosting: 0.7932960893854749\n"
     ]
    }
   ],
   "source": [
    "adaBoosting = AdaBoostClassifier(learning_rate = 0.3)\n",
    "tree_scores = cross_val_score(adaBoosting,trainingX,trainingY,cv = 5)\n",
    "print('Cvs in Ada Boosting:', tree_scores.mean())\n",
    "adaBoosting.fit(trainingX,trainingY)\n",
    "print('Score of Ada Boosting:',adaBoosting.score(testingX,testingY)) "
   ]
  },
  {
   "cell_type": "markdown",
   "metadata": {},
   "source": [
    "Як ми бачимо, на тестових даних найкраще себе показав класифікатор Decision Tree, адже в нього найвище значення score. Але можна сказати, що моделі в цілому показали досить схожий результат. Тепер давайте перейдемо до виконання додаткового завдання."
   ]
  },
  {
   "cell_type": "code",
   "execution_count": 14,
   "metadata": {},
   "outputs": [
    {
     "name": "stdout",
     "output_type": "stream",
     "text": [
      "<class 'pandas.core.frame.DataFrame'>\n",
      "RangeIndex: 217 entries, 0 to 216\n",
      "Data columns (total 6 columns):\n",
      " #   Column          Non-Null Count  Dtype  \n",
      "---  ------          --------------  -----  \n",
      " 0   Country Name    217 non-null    object \n",
      " 1   Region          217 non-null    object \n",
      " 2   GDP per capita  190 non-null    float64\n",
      " 3   Populatiion     216 non-null    float64\n",
      " 4   CO2 emission    205 non-null    float64\n",
      " 5   Area            217 non-null    float64\n",
      "dtypes: float64(4), object(2)\n",
      "memory usage: 10.3+ KB\n"
     ]
    },
    {
     "data": {
      "text/html": [
       "<div>\n",
       "<style scoped>\n",
       "    .dataframe tbody tr th:only-of-type {\n",
       "        vertical-align: middle;\n",
       "    }\n",
       "\n",
       "    .dataframe tbody tr th {\n",
       "        vertical-align: top;\n",
       "    }\n",
       "\n",
       "    .dataframe thead th {\n",
       "        text-align: right;\n",
       "    }\n",
       "</style>\n",
       "<table border=\"1\" class=\"dataframe\">\n",
       "  <thead>\n",
       "    <tr style=\"text-align: right;\">\n",
       "      <th></th>\n",
       "      <th>Country Name</th>\n",
       "      <th>Region</th>\n",
       "      <th>GDP per capita</th>\n",
       "      <th>Populatiion</th>\n",
       "      <th>CO2 emission</th>\n",
       "      <th>Area</th>\n",
       "    </tr>\n",
       "  </thead>\n",
       "  <tbody>\n",
       "    <tr>\n",
       "      <th>0</th>\n",
       "      <td>Afghanistan</td>\n",
       "      <td>South Asia</td>\n",
       "      <td>561.778746</td>\n",
       "      <td>34656032.0</td>\n",
       "      <td>9809.225</td>\n",
       "      <td>652860.0</td>\n",
       "    </tr>\n",
       "    <tr>\n",
       "      <th>1</th>\n",
       "      <td>Albania</td>\n",
       "      <td>Europe &amp; Central Asia</td>\n",
       "      <td>4124.982390</td>\n",
       "      <td>2876101.0</td>\n",
       "      <td>5716.853</td>\n",
       "      <td>28750.0</td>\n",
       "    </tr>\n",
       "    <tr>\n",
       "      <th>2</th>\n",
       "      <td>Algeria</td>\n",
       "      <td>Middle East &amp; North Africa</td>\n",
       "      <td>3916.881571</td>\n",
       "      <td>40606052.0</td>\n",
       "      <td>145400.217</td>\n",
       "      <td>2381740.0</td>\n",
       "    </tr>\n",
       "    <tr>\n",
       "      <th>3</th>\n",
       "      <td>American Samoa</td>\n",
       "      <td>East Asia &amp; Pacific</td>\n",
       "      <td>11834.745230</td>\n",
       "      <td>55599.0</td>\n",
       "      <td>NaN</td>\n",
       "      <td>200.0</td>\n",
       "    </tr>\n",
       "    <tr>\n",
       "      <th>4</th>\n",
       "      <td>Andorra</td>\n",
       "      <td>Europe &amp; Central Asia</td>\n",
       "      <td>36988.622030</td>\n",
       "      <td>77281.0</td>\n",
       "      <td>462.042</td>\n",
       "      <td>470.0</td>\n",
       "    </tr>\n",
       "    <tr>\n",
       "      <th>5</th>\n",
       "      <td>Angola</td>\n",
       "      <td>Sub-Saharan Africa</td>\n",
       "      <td>3308.700233</td>\n",
       "      <td>28813463.0</td>\n",
       "      <td>34763.160</td>\n",
       "      <td>1246700.0</td>\n",
       "    </tr>\n",
       "    <tr>\n",
       "      <th>6</th>\n",
       "      <td>Antigua and Barbuda</td>\n",
       "      <td>Latin America &amp; Caribbean</td>\n",
       "      <td>14462.176280</td>\n",
       "      <td>100963.0</td>\n",
       "      <td>531.715</td>\n",
       "      <td>440.0</td>\n",
       "    </tr>\n",
       "    <tr>\n",
       "      <th>7</th>\n",
       "      <td>Argentina</td>\n",
       "      <td>Latin America &amp; Caribbean</td>\n",
       "      <td>12440.320980</td>\n",
       "      <td>43847430.0</td>\n",
       "      <td>204024.546</td>\n",
       "      <td>2780400.0</td>\n",
       "    </tr>\n",
       "    <tr>\n",
       "      <th>8</th>\n",
       "      <td>Armenia</td>\n",
       "      <td>Europe &amp; Central Asia</td>\n",
       "      <td>3614.688357</td>\n",
       "      <td>2924816.0</td>\n",
       "      <td>5529.836</td>\n",
       "      <td>29740.0</td>\n",
       "    </tr>\n",
       "    <tr>\n",
       "      <th>9</th>\n",
       "      <td>Aruba</td>\n",
       "      <td>Latin America &amp; Caribbean</td>\n",
       "      <td>NaN</td>\n",
       "      <td>104822.0</td>\n",
       "      <td>872.746</td>\n",
       "      <td>180.0</td>\n",
       "    </tr>\n",
       "  </tbody>\n",
       "</table>\n",
       "</div>"
      ],
      "text/plain": [
       "          Country Name                      Region  GDP per capita  \\\n",
       "0          Afghanistan                  South Asia      561.778746   \n",
       "1              Albania       Europe & Central Asia     4124.982390   \n",
       "2              Algeria  Middle East & North Africa     3916.881571   \n",
       "3       American Samoa         East Asia & Pacific    11834.745230   \n",
       "4              Andorra       Europe & Central Asia    36988.622030   \n",
       "5               Angola          Sub-Saharan Africa     3308.700233   \n",
       "6  Antigua and Barbuda   Latin America & Caribbean    14462.176280   \n",
       "7            Argentina   Latin America & Caribbean    12440.320980   \n",
       "8              Armenia       Europe & Central Asia     3614.688357   \n",
       "9                Aruba   Latin America & Caribbean             NaN   \n",
       "\n",
       "   Populatiion  CO2 emission       Area  \n",
       "0   34656032.0      9809.225   652860.0  \n",
       "1    2876101.0      5716.853    28750.0  \n",
       "2   40606052.0    145400.217  2381740.0  \n",
       "3      55599.0           NaN      200.0  \n",
       "4      77281.0       462.042      470.0  \n",
       "5   28813463.0     34763.160  1246700.0  \n",
       "6     100963.0       531.715      440.0  \n",
       "7   43847430.0    204024.546  2780400.0  \n",
       "8    2924816.0      5529.836    29740.0  \n",
       "9     104822.0       872.746      180.0  "
      ]
     },
     "execution_count": 14,
     "metadata": {},
     "output_type": "execute_result"
    }
   ],
   "source": [
    "def getDataset():\n",
    "    data = pd.read_csv('Data2.csv',sep=';',encoding='windows-1251',decimal=',')\n",
    "    return data \n",
    "\n",
    "dataset = getDataset()\n",
    "dataset.info()\n",
    "dataset.head(10)"
   ]
  },
  {
   "cell_type": "markdown",
   "metadata": {},
   "source": [
    "Тепер давайте перейменуємо стовпчик, з від'ємних значень зробимо абсолютні, пропуски заповнимо середніми."
   ]
  },
  {
   "cell_type": "code",
   "execution_count": 15,
   "metadata": {},
   "outputs": [
    {
     "name": "stdout",
     "output_type": "stream",
     "text": [
      "<class 'pandas.core.frame.DataFrame'>\n",
      "RangeIndex: 217 entries, 0 to 216\n",
      "Data columns (total 6 columns):\n",
      " #   Column          Non-Null Count  Dtype  \n",
      "---  ------          --------------  -----  \n",
      " 0   Country Name    217 non-null    object \n",
      " 1   Region          217 non-null    object \n",
      " 2   GDP per capita  217 non-null    float64\n",
      " 3   Population      217 non-null    float64\n",
      " 4   CO2 emission    217 non-null    float64\n",
      " 5   Area            217 non-null    float64\n",
      "dtypes: float64(4), object(2)\n",
      "memory usage: 10.3+ KB\n"
     ]
    },
    {
     "name": "stderr",
     "output_type": "stream",
     "text": [
      "C:\\Users\\danil\\AppData\\Local\\Temp\\ipykernel_10704\\735263001.py:4: FutureWarning: Dropping of nuisance columns in DataFrame reductions (with 'numeric_only=None') is deprecated; in a future version this will raise TypeError.  Select only valid columns before calling the reduction.\n",
      "  dataset = dataset.fillna(dataset.mean())\n"
     ]
    }
   ],
   "source": [
    "dataset = dataset.rename(columns={'Populatiion':'Population'})\n",
    "dataset['GDP per capita'] = abs(dataset['GDP per capita'])\n",
    "dataset['Area'] = abs(dataset['Area'])\n",
    "dataset = dataset.fillna(dataset.mean())\n",
    "dataset.info()"
   ]
  },
  {
   "cell_type": "markdown",
   "metadata": {},
   "source": [
    "Додамо стовпчик зі щільністю населення, оберемо стовпчики для кластеризації."
   ]
  },
  {
   "cell_type": "code",
   "execution_count": 16,
   "metadata": {},
   "outputs": [
    {
     "name": "stdout",
     "output_type": "stream",
     "text": [
      "     GDP per capita  Population density\n",
      "0        561.778746           53.083405\n",
      "1       4124.982390          100.038296\n",
      "2       3916.881571           17.048902\n",
      "3      11834.745230          277.995000\n",
      "4      36988.622030          164.427660\n",
      "..              ...                 ...\n",
      "212    13445.593416          294.145714\n",
      "213     2943.404534          756.074086\n",
      "214      990.334774           52.245796\n",
      "215     1269.573537           22.045136\n",
      "216     1029.076649           41.330643\n",
      "\n",
      "[217 rows x 2 columns]\n"
     ]
    }
   ],
   "source": [
    "dataset['Population density'] = dataset['Population']/dataset['Area']\n",
    "\n",
    "features = dataset[['GDP per capita','Population density']]\n",
    "print(features)"
   ]
  },
  {
   "cell_type": "markdown",
   "metadata": {},
   "source": [
    "Тепер потрібно визначити к-сть кластерів, адже вона нам не відома. Скористаємось методом \"локтя\"."
   ]
  },
  {
   "cell_type": "code",
   "execution_count": 17,
   "metadata": {},
   "outputs": [
    {
     "name": "stdout",
     "output_type": "stream",
     "text": [
      "[62376608668.3652, 16653219153.300232, 9888703650.836306, 5457080671.229424, 4674162611.615391, 3419141167.4773836, 2209432774.6377473, 2045263745.3172152, 1888267055.5109823, 1563576612.0692024]\n"
     ]
    }
   ],
   "source": [
    "from sklearn.cluster import KMeans\n",
    "args= {\n",
    "    'init':'random',\n",
    "    'random_state': 42\n",
    "}\n",
    "\n",
    "sse = []\n",
    "\n",
    "for k in range(1,11):\n",
    "    kmeans = KMeans(n_clusters = k, **args)\n",
    "    kmeans.fit(features)\n",
    "    sse.append(kmeans.inertia_)\n",
    "print(sse)"
   ]
  },
  {
   "cell_type": "markdown",
   "metadata": {},
   "source": [
    "Давайте зобразимо залежність SSE від кількості кластерів на графіку, щоб обрати оптимальну кількість кластерів."
   ]
  },
  {
   "cell_type": "code",
   "execution_count": 18,
   "metadata": {},
   "outputs": [
    {
     "data": {
      "image/png": "[encoded data removed]",
      "text/plain": [
       "<Figure size 720x720 with 1 Axes>"
      ]
     },
     "metadata": {
      "needs_background": "light"
     },
     "output_type": "display_data"
    }
   ],
   "source": [
    "plt.figure(figsize = (10,10))\n",
    "plt.plot(range(1,11),sse)\n",
    "plt.xlabel('Clusters number')\n",
    "plt.ylabel('SSE')\n",
    "plt.xticks(range(1,11))\n",
    "plt.show()"
   ]
  },
  {
   "cell_type": "markdown",
   "metadata": {},
   "source": [
    "Як ми бачимо оптимально буде взяти 3 або 4 кластери. Для перевірки давайте додатково скористаємось бібліотекою kneed."
   ]
  },
  {
   "cell_type": "code",
   "execution_count": 19,
   "metadata": {},
   "outputs": [
    {
     "name": "stdout",
     "output_type": "stream",
     "text": [
      "Elbow by kneed:  3\n"
     ]
    }
   ],
   "source": [
    "from kneed import KneeLocator\n",
    "knee = KneeLocator(range(1,11),sse,curve='convex',direction = 'decreasing')\n",
    "print('Elbow by kneed: ',knee.elbow)"
   ]
  },
  {
   "cell_type": "markdown",
   "metadata": {},
   "source": [
    "Тоді оберемо 3 кластери."
   ]
  },
  {
   "cell_type": "code",
   "execution_count": 20,
   "metadata": {},
   "outputs": [
    {
     "data": {
      "text/html": [
       "<style>#sk-container-id-1 {color: black;background-color: white;}#sk-container-id-1 pre{padding: 0;}#sk-container-id-1 div.sk-toggleable {background-color: white;}#sk-container-id-1 label.sk-toggleable__label {cursor: pointer;display: block;width: 100%;margin-bottom: 0;padding: 0.3em;box-sizing: border-box;text-align: center;}#sk-container-id-1 label.sk-toggleable__label-arrow:before {content: \"▸\";float: left;margin-right: 0.25em;color: #696969;}#sk-container-id-1 label.sk-toggleable__label-arrow:hover:before {color: black;}#sk-container-id-1 div.sk-estimator:hover label.sk-toggleable__label-arrow:before {color: black;}#sk-container-id-1 div.sk-toggleable__content {max-height: 0;max-width: 0;overflow: hidden;text-align: left;background-color: #f0f8ff;}#sk-container-id-1 div.sk-toggleable__content pre {margin: 0.2em;color: black;border-radius: 0.25em;background-color: #f0f8ff;}#sk-container-id-1 input.sk-toggleable__control:checked~div.sk-toggleable__content {max-height: 200px;max-width: 100%;overflow: auto;}#sk-container-id-1 input.sk-toggleable__control:checked~label.sk-toggleable__label-arrow:before {content: \"▾\";}#sk-container-id-1 div.sk-estimator input.sk-toggleable__control:checked~label.sk-toggleable__label {background-color: #d4ebff;}#sk-container-id-1 div.sk-label input.sk-toggleable__control:checked~label.sk-toggleable__label {background-color: #d4ebff;}#sk-container-id-1 input.sk-hidden--visually {border: 0;clip: rect(1px 1px 1px 1px);clip: rect(1px, 1px, 1px, 1px);height: 1px;margin: -1px;overflow: hidden;padding: 0;position: absolute;width: 1px;}#sk-container-id-1 div.sk-estimator {font-family: monospace;background-color: #f0f8ff;border: 1px dotted black;border-radius: 0.25em;box-sizing: border-box;margin-bottom: 0.5em;}#sk-container-id-1 div.sk-estimator:hover {background-color: #d4ebff;}#sk-container-id-1 div.sk-parallel-item::after {content: \"\";width: 100%;border-bottom: 1px solid gray;flex-grow: 1;}#sk-container-id-1 div.sk-label:hover label.sk-toggleable__label {background-color: #d4ebff;}#sk-container-id-1 div.sk-serial::before {content: \"\";position: absolute;border-left: 1px solid gray;box-sizing: border-box;top: 0;bottom: 0;left: 50%;z-index: 0;}#sk-container-id-1 div.sk-serial {display: flex;flex-direction: column;align-items: center;background-color: white;padding-right: 0.2em;padding-left: 0.2em;position: relative;}#sk-container-id-1 div.sk-item {position: relative;z-index: 1;}#sk-container-id-1 div.sk-parallel {display: flex;align-items: stretch;justify-content: center;background-color: white;position: relative;}#sk-container-id-1 div.sk-item::before, #sk-container-id-1 div.sk-parallel-item::before {content: \"\";position: absolute;border-left: 1px solid gray;box-sizing: border-box;top: 0;bottom: 0;left: 50%;z-index: -1;}#sk-container-id-1 div.sk-parallel-item {display: flex;flex-direction: column;z-index: 1;position: relative;background-color: white;}#sk-container-id-1 div.sk-parallel-item:first-child::after {align-self: flex-end;width: 50%;}#sk-container-id-1 div.sk-parallel-item:last-child::after {align-self: flex-start;width: 50%;}#sk-container-id-1 div.sk-parallel-item:only-child::after {width: 0;}#sk-container-id-1 div.sk-dashed-wrapped {border: 1px dashed gray;margin: 0 0.4em 0.5em 0.4em;box-sizing: border-box;padding-bottom: 0.4em;background-color: white;}#sk-container-id-1 div.sk-label label {font-family: monospace;font-weight: bold;display: inline-block;line-height: 1.2em;}#sk-container-id-1 div.sk-label-container {text-align: center;}#sk-container-id-1 div.sk-container {/* jupyter's `normalize.less` sets `[hidden] { display: none; }` but bootstrap.min.css set `[hidden] { display: none !important; }` so we also need the `!important` here to be able to override the default hidden behavior on the sphinx rendered scikit-learn.org. See: https://github.com/scikit-learn/scikit-learn/issues/21755 */display: inline-block !important;position: relative;}#sk-container-id-1 div.sk-text-repr-fallback {display: none;}</style><div id=\"sk-container-id-1\" class=\"sk-top-container\"><div class=\"sk-text-repr-fallback\"><pre>KMeans(init=&#x27;random&#x27;, n_clusters=3, random_state=42)</pre><b>In a Jupyter environment, please rerun this cell to show the HTML representation or trust the notebook. <br />On GitHub, the HTML representation is unable to render, please try loading this page with nbviewer.org.</b></div><div class=\"sk-container\" hidden><div class=\"sk-item\"><div class=\"sk-estimator sk-toggleable\"><input class=\"sk-toggleable__control sk-hidden--visually\" id=\"sk-estimator-id-1\" type=\"checkbox\" checked><label for=\"sk-estimator-id-1\" class=\"sk-toggleable__label sk-toggleable__label-arrow\">KMeans</label><div class=\"sk-toggleable__content\"><pre>KMeans(init=&#x27;random&#x27;, n_clusters=3, random_state=42)</pre></div></div></div></div></div>"
      ],
      "text/plain": [
       "KMeans(init='random', n_clusters=3, random_state=42)"
      ]
     },
     "execution_count": 20,
     "metadata": {},
     "output_type": "execute_result"
    }
   ],
   "source": [
    "kmeans = KMeans(\n",
    "    init = 'random',\n",
    "    n_clusters = 3,\n",
    "    random_state = 42\n",
    ")\n",
    "kmeans.fit(features)"
   ]
  },
  {
   "cell_type": "markdown",
   "metadata": {},
   "source": [
    "Тепер давайте візуалізуємо наші кластери."
   ]
  },
  {
   "cell_type": "code",
   "execution_count": 21,
   "metadata": {},
   "outputs": [
    {
     "data": {
      "application/vnd.plotly.v1+json": {
       "config": {
        "plotlyServerURL": "https://plot.ly"
       },
       "data": [
        {
         "customdata": [
          [
           "Afghanistan",
           "South Asia"
          ],
          [
           "Albania",
           "Europe & Central Asia"
          ],
          [
           "Algeria",
           "Middle East & North Africa"
          ],
          [
           "American Samoa",
           "East Asia & Pacific"
          ],
          [
           "Andorra",
           "Europe & Central Asia"
          ],
          [
           "Angola",
           "Sub-Saharan Africa"
          ],
          [
           "Antigua and Barbuda",
           "Latin America & Caribbean"
          ],
          [
           "Argentina",
           "Latin America & Caribbean"
          ],
          [
           "Armenia",
           "Europe & Central Asia"
          ],
          [
           "Aruba",
           "Latin America & Caribbean"
          ],
          [
           "Australia",
           "East Asia & Pacific"
          ],
          [
           "Austria",
           "Europe & Central Asia"
          ],
          [
           "Azerbaijan",
           "Europe & Central Asia"
          ],
          [
           "Bahamas, The",
           "Latin America & Caribbean"
          ],
          [
           "Bahrain",
           "Middle East & North Africa"
          ],
          [
           "Bangladesh",
           "South Asia"
          ],
          [
           "Barbados",
           "Latin America & Caribbean"
          ],
          [
           "Belarus",
           "Europe & Central Asia"
          ],
          [
           "Belgium",
           "Europe & Central Asia"
          ],
          [
           "Belize",
           "Latin America & Caribbean"
          ],
          [
           "Benin",
           "Sub-Saharan Africa"
          ],
          [
           "Bermuda",
           "North America"
          ],
          [
           "Bhutan",
           "South Asia"
          ],
          [
           "Bolivia",
           "Latin America & Caribbean"
          ],
          [
           "Bosnia and Herzegovina",
           "Europe & Central Asia"
          ],
          [
           "Botswana",
           "Sub-Saharan Africa"
          ],
          [
           "Brazil",
           "Latin America & Caribbean"
          ],
          [
           "British Virgin Islands",
           "Latin America & Caribbean"
          ],
          [
           "Brunei Darussalam",
           "East Asia & Pacific"
          ],
          [
           "Bulgaria",
           "Europe & Central Asia"
          ],
          [
           "Burkina Faso",
           "Sub-Saharan Africa"
          ],
          [
           "Burundi",
           "Sub-Saharan Africa"
          ],
          [
           "Cabo Verde",
           "Sub-Saharan Africa"
          ],
          [
           "Cambodia",
           "East Asia & Pacific"
          ],
          [
           "Cameroon",
           "Sub-Saharan Africa"
          ],
          [
           "Canada",
           "North America"
          ],
          [
           "Cayman Islands",
           "Latin America & Caribbean"
          ],
          [
           "Central African Republic",
           "Sub-Saharan Africa"
          ],
          [
           "Chad",
           "Sub-Saharan Africa"
          ],
          [
           "Channel Islands",
           "Europe & Central Asia"
          ],
          [
           "Chile",
           "Latin America & Caribbean"
          ],
          [
           "China",
           "East Asia & Pacific"
          ],
          [
           "Colombia",
           "Latin America & Caribbean"
          ],
          [
           "Comoros",
           "Sub-Saharan Africa"
          ],
          [
           "Congo, Dem. Rep.",
           "Sub-Saharan Africa"
          ],
          [
           "Congo, Rep.",
           "Sub-Saharan Africa"
          ],
          [
           "Costa Rica",
           "Latin America & Caribbean"
          ],
          [
           "Cote d'Ivoire",
           "Sub-Saharan Africa"
          ],
          [
           "Croatia",
           "Europe & Central Asia"
          ],
          [
           "Cuba",
           "Latin America & Caribbean"
          ],
          [
           "Curacao",
           "Latin America & Caribbean"
          ],
          [
           "Cyprus",
           "Europe & Central Asia"
          ],
          [
           "Czech Republic",
           "Europe & Central Asia"
          ],
          [
           "Denmark",
           "Europe & Central Asia"
          ],
          [
           "Djibouti",
           "Middle East & North Africa"
          ],
          [
           "Dominica",
           "Latin America & Caribbean"
          ],
          [
           "Dominican Republic",
           "Latin America & Caribbean"
          ],
          [
           "Ecuador",
           "Latin America & Caribbean"
          ],
          [
           "Egypt, Arab Rep.",
           "Middle East & North Africa"
          ],
          [
           "El Salvador",
           "Latin America & Caribbean"
          ],
          [
           "Equatorial Guinea",
           "Sub-Saharan Africa"
          ],
          [
           "Eritrea",
           "Sub-Saharan Africa"
          ],
          [
           "Estonia",
           "Europe & Central Asia"
          ],
          [
           "Ethiopia",
           "Sub-Saharan Africa"
          ],
          [
           "Faroe Islands",
           "Europe & Central Asia"
          ],
          [
           "Fiji",
           "East Asia & Pacific"
          ],
          [
           "Finland",
           "Europe & Central Asia"
          ],
          [
           "France",
           "Europe & Central Asia"
          ],
          [
           "French Polynesia",
           "East Asia & Pacific"
          ],
          [
           "Gabon",
           "Sub-Saharan Africa"
          ],
          [
           "Gambia, The",
           "Sub-Saharan Africa"
          ],
          [
           "Georgia",
           "Europe & Central Asia"
          ],
          [
           "Germany",
           "Europe & Central Asia"
          ],
          [
           "Ghana",
           "Sub-Saharan Africa"
          ],
          [
           "Gibraltar",
           "Europe & Central Asia"
          ],
          [
           "Greece",
           "Europe & Central Asia"
          ],
          [
           "Greenland",
           "Europe & Central Asia"
          ],
          [
           "Grenada",
           "Latin America & Caribbean"
          ],
          [
           "Guam",
           "East Asia & Pacific"
          ],
          [
           "Guatemala",
           "Latin America & Caribbean"
          ],
          [
           "Guinea",
           "Sub-Saharan Africa"
          ],
          [
           "Guinea-Bissau",
           "Sub-Saharan Africa"
          ],
          [
           "Guyana",
           "Latin America & Caribbean"
          ],
          [
           "Haiti",
           "Latin America & Caribbean"
          ],
          [
           "Honduras",
           "Latin America & Caribbean"
          ],
          [
           "Hong Kong SAR, China",
           "East Asia & Pacific"
          ],
          [
           "Hungary",
           "Europe & Central Asia"
          ],
          [
           "Iceland",
           "Europe & Central Asia"
          ],
          [
           "India",
           "South Asia"
          ],
          [
           "Indonesia",
           "East Asia & Pacific"
          ],
          [
           "Iran, Islamic Rep.",
           "Middle East & North Africa"
          ],
          [
           "Iraq",
           "Middle East & North Africa"
          ],
          [
           "Ireland",
           "Europe & Central Asia"
          ],
          [
           "Isle of Man",
           "Europe & Central Asia"
          ],
          [
           "Israel",
           "Middle East & North Africa"
          ],
          [
           "Italy",
           "Europe & Central Asia"
          ],
          [
           "Jamaica",
           "Latin America & Caribbean"
          ],
          [
           "Japan",
           "East Asia & Pacific"
          ],
          [
           "Jordan",
           "Middle East & North Africa"
          ],
          [
           "Kazakhstan",
           "Europe & Central Asia"
          ],
          [
           "Kenya",
           "Sub-Saharan Africa"
          ],
          [
           "Kiribati",
           "East Asia & Pacific"
          ],
          [
           "Korea, Dem. People’s Rep.",
           "East Asia & Pacific"
          ],
          [
           "Korea, Rep.",
           "East Asia & Pacific"
          ],
          [
           "Kosovo",
           "Europe & Central Asia"
          ],
          [
           "Kuwait",
           "Middle East & North Africa"
          ],
          [
           "Kyrgyz Republic",
           "Europe & Central Asia"
          ],
          [
           "Lao PDR",
           "East Asia & Pacific"
          ],
          [
           "Latvia",
           "Europe & Central Asia"
          ],
          [
           "Lebanon",
           "Middle East & North Africa"
          ],
          [
           "Lesotho",
           "Sub-Saharan Africa"
          ],
          [
           "Liberia",
           "Sub-Saharan Africa"
          ],
          [
           "Libya",
           "Middle East & North Africa"
          ],
          [
           "Liechtenstein",
           "Europe & Central Asia"
          ],
          [
           "Lithuania",
           "Europe & Central Asia"
          ],
          [
           "Luxembourg",
           "Europe & Central Asia"
          ],
          [
           "Macao SAR, China",
           "East Asia & Pacific"
          ],
          [
           "Macedonia, FYR",
           "Europe & Central Asia"
          ],
          [
           "Madagascar",
           "Sub-Saharan Africa"
          ],
          [
           "Malawi",
           "Sub-Saharan Africa"
          ],
          [
           "Malaysia",
           "East Asia & Pacific"
          ],
          [
           "Maldives",
           "South Asia"
          ],
          [
           "Mali",
           "Sub-Saharan Africa"
          ],
          [
           "Malta",
           "Middle East & North Africa"
          ],
          [
           "Marshall Islands",
           "East Asia & Pacific"
          ],
          [
           "Mauritania",
           "Sub-Saharan Africa"
          ],
          [
           "Mauritius",
           "Sub-Saharan Africa"
          ],
          [
           "Mexico",
           "Latin America & Caribbean"
          ],
          [
           "Micronesia, Fed. Sts.",
           "East Asia & Pacific"
          ],
          [
           "Moldova",
           "Europe & Central Asia"
          ],
          [
           "Monaco",
           "Europe & Central Asia"
          ],
          [
           "Mongolia",
           "East Asia & Pacific"
          ],
          [
           "Montenegro",
           "Europe & Central Asia"
          ],
          [
           "Morocco",
           "Middle East & North Africa"
          ],
          [
           "Mozambique",
           "Sub-Saharan Africa"
          ],
          [
           "Myanmar",
           "East Asia & Pacific"
          ],
          [
           "Namibia",
           "Sub-Saharan Africa"
          ],
          [
           "Nauru",
           "East Asia & Pacific"
          ],
          [
           "Nepal",
           "South Asia"
          ],
          [
           "Netherlands",
           "Europe & Central Asia"
          ],
          [
           "New Caledonia",
           "East Asia & Pacific"
          ],
          [
           "New Zealand",
           "East Asia & Pacific"
          ],
          [
           "Nicaragua",
           "Latin America & Caribbean"
          ],
          [
           "Niger",
           "Sub-Saharan Africa"
          ],
          [
           "Nigeria",
           "Sub-Saharan Africa"
          ],
          [
           "Northern Mariana Islands",
           "East Asia & Pacific"
          ],
          [
           "Norway",
           "Europe & Central Asia"
          ],
          [
           "Oman",
           "Middle East & North Africa"
          ],
          [
           "Pakistan",
           "South Asia"
          ],
          [
           "Palau",
           "East Asia & Pacific"
          ],
          [
           "Panama",
           "Latin America & Caribbean"
          ],
          [
           "Papua New Guinea",
           "East Asia & Pacific"
          ],
          [
           "Paraguay",
           "Latin America & Caribbean"
          ],
          [
           "Peru",
           "Latin America & Caribbean"
          ],
          [
           "Philippines",
           "East Asia & Pacific"
          ],
          [
           "Poland",
           "Europe & Central Asia"
          ],
          [
           "Portugal",
           "Europe & Central Asia"
          ],
          [
           "Puerto Rico",
           "Latin America & Caribbean"
          ],
          [
           "Qatar",
           "Middle East & North Africa"
          ],
          [
           "Romania",
           "Europe & Central Asia"
          ],
          [
           "Russian Federation",
           "Europe & Central Asia"
          ],
          [
           "Rwanda",
           "Sub-Saharan Africa"
          ],
          [
           "Samoa",
           "East Asia & Pacific"
          ],
          [
           "San Marino",
           "Europe & Central Asia"
          ],
          [
           "Sao Tome and Principe",
           "Sub-Saharan Africa"
          ],
          [
           "Saudi Arabia",
           "Middle East & North Africa"
          ],
          [
           "Senegal",
           "Sub-Saharan Africa"
          ],
          [
           "Serbia",
           "Europe & Central Asia"
          ],
          [
           "Seychelles",
           "Sub-Saharan Africa"
          ],
          [
           "Sierra Leone",
           "Sub-Saharan Africa"
          ],
          [
           "Singapore",
           "East Asia & Pacific"
          ],
          [
           "Sint Maarten (Dutch part)",
           "Latin America & Caribbean"
          ],
          [
           "Slovak Republic",
           "Europe & Central Asia"
          ],
          [
           "Slovenia",
           "Europe & Central Asia"
          ],
          [
           "Solomon Islands",
           "East Asia & Pacific"
          ],
          [
           "Somalia",
           "Sub-Saharan Africa"
          ],
          [
           "South Africa",
           "Sub-Saharan Africa"
          ],
          [
           "South Sudan",
           "Sub-Saharan Africa"
          ],
          [
           "Spain",
           "Europe & Central Asia"
          ],
          [
           "Sri Lanka",
           "South Asia"
          ],
          [
           "St. Kitts and Nevis",
           "Latin America & Caribbean"
          ],
          [
           "St. Lucia",
           "Latin America & Caribbean"
          ],
          [
           "St. Martin (French part)",
           "Latin America & Caribbean"
          ],
          [
           "St. Vincent and the Grenadines",
           "Latin America & Caribbean"
          ],
          [
           "Sudan",
           "Sub-Saharan Africa"
          ],
          [
           "Suriname",
           "Latin America & Caribbean"
          ],
          [
           "Swaziland",
           "Sub-Saharan Africa"
          ],
          [
           "Sweden",
           "Europe & Central Asia"
          ],
          [
           "Switzerland",
           "Europe & Central Asia"
          ],
          [
           "Syrian Arab Republic",
           "Middle East & North Africa"
          ],
          [
           "Tajikistan",
           "Europe & Central Asia"
          ],
          [
           "Tanzania",
           "Sub-Saharan Africa"
          ],
          [
           "Thailand",
           "East Asia & Pacific"
          ],
          [
           "Timor-Leste",
           "East Asia & Pacific"
          ],
          [
           "Togo",
           "Sub-Saharan Africa"
          ],
          [
           "Tonga",
           "East Asia & Pacific"
          ],
          [
           "Trinidad and Tobago",
           "Latin America & Caribbean"
          ],
          [
           "Tunisia",
           "Middle East & North Africa"
          ],
          [
           "Turkey",
           "Europe & Central Asia"
          ],
          [
           "Turkmenistan",
           "Europe & Central Asia"
          ],
          [
           "Turks and Caicos Islands",
           "Latin America & Caribbean"
          ],
          [
           "Tuvalu",
           "East Asia & Pacific"
          ],
          [
           "Uganda",
           "Sub-Saharan Africa"
          ],
          [
           "Ukraine",
           "Europe & Central Asia"
          ],
          [
           "United Arab Emirates",
           "Middle East & North Africa"
          ],
          [
           "United Kingdom",
           "Europe & Central Asia"
          ],
          [
           "United States",
           "North America"
          ],
          [
           "Uruguay",
           "Latin America & Caribbean"
          ],
          [
           "Uzbekistan",
           "Europe & Central Asia"
          ],
          [
           "Vanuatu",
           "East Asia & Pacific"
          ],
          [
           "Venezuela, RB",
           "Latin America & Caribbean"
          ],
          [
           "Vietnam",
           "East Asia & Pacific"
          ],
          [
           "Virgin Islands (U.S.)",
           "Latin America & Caribbean"
          ],
          [
           "West Bank and Gaza",
           "Middle East & North Africa"
          ],
          [
           "Yemen, Rep.",
           "Middle East & North Africa"
          ],
          [
           "Zambia",
           "Sub-Saharan Africa"
          ],
          [
           "Zimbabwe",
           "Sub-Saharan Africa"
          ]
         ],
         "hovertemplate": "GDP per capita=%{x}<br>Population density=%{y}<br>Country Name=%{customdata[0]}<br>Region=%{customdata[1]}<br>color=%{marker.color}<extra></extra>",
         "legendgroup": "",
         "marker": {
          "color": [
           2,
           2,
           2,
           1,
           0,
           2,
           1,
           1,
           2,
           1,
           0,
           0,
           2,
           1,
           1,
           2,
           1,
           2,
           0,
           2,
           2,
           1,
           2,
           2,
           2,
           2,
           2,
           1,
           1,
           2,
           2,
           2,
           2,
           2,
           2,
           0,
           1,
           2,
           2,
           1,
           1,
           2,
           2,
           2,
           2,
           2,
           1,
           2,
           1,
           1,
           1,
           1,
           1,
           0,
           1,
           2,
           2,
           2,
           2,
           2,
           2,
           1,
           1,
           2,
           1,
           2,
           0,
           0,
           1,
           2,
           2,
           2,
           0,
           2,
           1,
           1,
           1,
           1,
           0,
           2,
           2,
           2,
           2,
           2,
           2,
           0,
           1,
           0,
           2,
           2,
           2,
           2,
           0,
           1,
           0,
           1,
           2,
           0,
           2,
           2,
           2,
           2,
           1,
           1,
           2,
           1,
           2,
           2,
           1,
           2,
           2,
           2,
           1,
           1,
           1,
           0,
           0,
           2,
           2,
           2,
           2,
           1,
           2,
           1,
           2,
           2,
           2,
           2,
           2,
           2,
           1,
           2,
           2,
           2,
           2,
           2,
           2,
           2,
           2,
           0,
           1,
           0,
           2,
           1,
           2,
           1,
           0,
           1,
           2,
           1,
           1,
           2,
           2,
           2,
           2,
           1,
           1,
           1,
           0,
           2,
           2,
           2,
           2,
           0,
           2,
           1,
           2,
           2,
           1,
           2,
           0,
           1,
           1,
           1,
           2,
           2,
           2,
           1,
           1,
           2,
           1,
           2,
           1,
           2,
           2,
           2,
           2,
           0,
           0,
           1,
           2,
           2,
           2,
           2,
           2,
           2,
           1,
           2,
           1,
           2,
           1,
           2,
           2,
           2,
           0,
           0,
           0,
           1,
           2,
           2,
           1,
           2,
           1,
           2,
           2,
           2,
           2
          ],
          "coloraxis": "coloraxis",
          "symbol": "circle"
         },
         "mode": "markers",
         "name": "",
         "orientation": "v",
         "showlegend": false,
         "type": "scatter",
         "x": [
          561.7787463,
          4124.98239,
          3916.881571,
          11834.74523,
          36988.62203,
          3308.700233,
          14462.17628,
          12440.32098,
          3614.688357,
          13445.593416057367,
          49755.31548,
          44757.6349,
          3878.709257,
          28785.47767,
          22579.09342,
          1358.779029,
          15891.62655,
          4989.427763,
          41271.48215,
          4744.736397,
          789.4404107,
          13445.593416057367,
          2773.547135,
          3104.956089,
          4808.405425,
          6924.149775,
          8649.948492,
          13445.593416057367,
          26939.41751,
          7469.025247,
          627.1030788,
          285.7274421,
          2997.75268,
          1269.907238,
          1374.514172,
          42183.2951,
          13445.593416057367,
          382.2131743,
          664.2956519,
          13445.593416057367,
          13792.92605,
          8123.180873,
          5805.605385,
          775.0800846,
          405.5425009,
          1528.24472,
          11824.6381,
          1534.973724,
          12149.18958,
          13445.593416057367,
          13445.593416057367,
          23541.48825,
          18483.71648,
          53578.75657,
          13445.593416057367,
          7906.721671,
          6722.223536,
          6018.526868,
          3477.851743,
          4223.584579,
          8747.353473,
          13445.593416057367,
          17736.8027,
          706.7574751,
          13445.593416057367,
          5233.469423,
          43401.22834,
          36857.11923,
          13445.593416057367,
          7179.340661,
          473.1904366,
          3865.785693,
          42161.31966,
          1513.461034,
          13445.593416057367,
          17890.57494,
          13445.593416057367,
          9841.76405,
          35562.56753,
          4146.744129,
          661.5277734,
          641.5959647,
          4529.139412,
          739.5954363,
          2361.160205,
          43740.99288,
          12820.0882,
          59764.70538,
          1709.591808,
          3570.294888,
          5219.109408,
          4609.600694,
          64175.43824,
          13445.593416057367,
          37180.52711,
          30661.22181,
          4878.575791,
          38900.56931,
          4087.937517,
          7714.693568,
          1455.359765,
          1587.057869,
          13445.593416057367,
          27538.80613,
          3661.429847,
          27359.23033,
          1077.603082,
          2338.692157,
          14071.02723,
          8257.294391,
          1039.704072,
          455.3707414,
          13445.593416057367,
          13445.593416057367,
          14900.7789,
          100738.6842,
          74017.18471,
          5237.14767,
          401.7422696,
          300.3076651,
          9508.23775,
          9875.278428,
          779.9448438,
          25145.39315,
          3665.207477,
          1101.901627,
          9630.944028,
          8208.555984,
          3143.749107,
          1900.226088,
          13445.593416057367,
          3694.082552,
          7028.934799,
          2892.775561,
          382.0693304,
          1195.515372,
          4414.978947,
          7821.298918,
          729.1222515,
          45637.88675,
          13445.593416057367,
          39412.15943,
          2151.382047,
          13445.593416057367,
          2175.673442,
          22572.37882,
          70868.1225,
          14982.35792,
          1443.625016,
          14428.14026,
          13680.23601,
          2500.091116,
          4077.742073,
          6049.232578,
          2951.071929,
          12414.09873,
          19838.02723,
          30790.10479,
          59324.33877,
          9522.771041,
          8748.368853,
          702.8356016,
          4030.013144,
          47908.56141,
          1714.680184,
          20028.64821,
          952.7683234,
          5426.198279,
          15075.71944,
          505.2045112,
          52962.49157,
          13445.593416057367,
          16529.54097,
          21650.21276,
          2005.483643,
          434.2088097,
          5274.546008,
          13445.593416057367,
          26616.4881,
          3909.989066,
          16596.82639,
          9364.821525,
          13445.593416057367,
          7006.596196,
          2415.038162,
          5871.442003,
          2770.199475,
          51844.76126,
          79887.51824,
          13445.593416057367,
          795.8438644,
          877.507612,
          5910.620932,
          1405.387212,
          578.4616936,
          3748.641794,
          16040.52424,
          3688.646375,
          10862.6004,
          6389.334143,
          13445.593416057367,
          3083.615251,
          580.3835385,
          2185.728031,
          37622.20746,
          40367.03784,
          57638.15909,
          15220.56603,
          2110.667754,
          2860.566475,
          13445.593416057367,
          2170.648054,
          13445.593416057367,
          2943.404534,
          990.334774,
          1269.573537,
          1029.076649
         ],
         "xaxis": "x",
         "y": [
          53.08340532426554,
          100.03829565217391,
          17.048902063197495,
          277.995,
          164.4276595744681,
          23.111785513756317,
          229.46136363636364,
          15.770187742770824,
          98.34620040349698,
          582.3444444444444,
          3.1167127403690893,
          104.28543497180462,
          112.72833718244804,
          28.186743515850143,
          1848.4708171206225,
          1103.7835128361444,
          662.7813953488372,
          45.795375722543355,
          371.70517523747134,
          15.975359164127122,
          94.73943882886023,
          1306.62,
          20.778376829712975,
          9.910868575797847,
          68.67439953134154,
          3.868220652192598,
          24.384508388554412,
          204.40666666666667,
          73.34419410745234,
          64.21461261261261,
          67.99807818539858,
          378.15727632051744,
          133.88585607940448,
          87.06567609368095,
          49.29999369005553,
          3.6342137496782567,
          230.17045454545453,
          7.375230344473338,
          11.255874610591901,
          866.0052631578948,
          23.687142902488574,
          144.1679212532669,
          42.61306031360658,
          427.5126276195594,
          33.57818931620651,
          14.987780701754385,
          95.05428571428571,
          73.484832227253,
          73.69853330977205,
          104.4410447761194,
          360.3581081081081,
          126.5,
          133.9119183466464,
          133.52402031592192,
          40.617801724137934,
          98.05733333333333,
          218.79578795972878,
          63.91179935249834,
          95.55013330670528,
          301.55522813688214,
          43.54688057040998,
          291.85850233843536,
          29.10636745522883,
          92.7313193878475,
          35.18409742120344,
          49.19321291735085,
          16.237503693635126,
          121.8315294297625,
          70.052,
          7.396368662905817,
          180.3983185840708,
          53.36154949784792,
          231.31592422631374,
          118.24737151001928,
          3440.8,
          81.43937556835405,
          0.13688878060665124,
          315.63823529411764,
          301.6592592592593,
          152.28642666911563,
          50.41862848775726,
          50.25458068087462,
          3.5972600828022516,
          390.8949189189189,
          81.01046315228021,
          6648.597285067874,
          105.53539718370418,
          3.245165048543689,
          402.8192953460619,
          136.6430582789227,
          46.00030255278916,
          85.51332490518331,
          67.91540978941377,
          146.90701754385964,
          387.2723153602175,
          201.1037034578881,
          262.1797088262056,
          335.99809240082334,
          105.86433049708911,
          6.531255802960987,
          83.50115788204077,
          141.2283950617284,
          210.45810519329683,
          511.02619664938175,
          166.82281620281069,
          227.41773288439956,
          30.421257420642263,
          28.54034206081081,
          30.398883547836874,
          574.8007655502392,
          72.58962450592885,
          41.42788003950795,
          3.5766467372154085,
          235.4125,
          43.99561927518917,
          225.0857142857143,
          20203.531353135313,
          80.94928043562815,
          42.388494708792,
          152.69729068197165,
          94.27831015719468,
          1391.64,
          14.509742055652763,
          1365.459375,
          294.81111111111113,
          4.172909673037742,
          619.3495098039216,
          64.9265534163451,
          149.91,
          104.93353028064993,
          19249.5,
          1.9355279646062962,
          45.09637943519189,
          78.99851304445191,
          36.06479521629263,
          78.16435803071283,
          3.0083016899392203,
          652.45,
          196.92058024188069,
          409.6872412132884,
          14.96232508073197,
          17.52904262074633,
          47.17287719567385,
          16.31648539857932,
          201.3376056810678,
          119.61521739130434,
          13.585742176344443,
          14.29648465266559,
          242.687446300716,
          46.745652173913044,
          53.48871652081676,
          17.468220119263677,
          16.534173157108018,
          24.722490312942533,
          344.40074,
          121.3637456824869,
          111.95024125779344,
          384.589289740699,
          221.34401378122308,
          82.65993120516801,
          8.441939730674191,
          452.44905087319665,
          68.70598591549296,
          553.3833333333333,
          208.23958333333334,
          15.014112267350177,
          78.3468761120431,
          79.87111815301041,
          205.8195652173913,
          102.29861687413555,
          7798.724617524339,
          1176.6176470588234,
          110.71079840929949,
          101.86704489393192,
          20.74114186851211,
          22.453966063419376,
          45.86114642889368,
          18.98208992286561,
          91.79736530023322,
          323.16720012193264,
          210.85,
          287.1209677419355,
          587.2977941176471,
          281.13589743589745,
          21.059765371942273,
          3.408423879868148,
          77.36739631336405,
          22.13383845156676,
          202.76333252603536,
          99.52723296252294,
          61.78524643503848,
          58.66378232872374,
          134.20547630183972,
          85.31748486886349,
          133.93861595351294,
          142.82933333333332,
          266.07446393762183,
          69.6977446366359,
          101.24457375692367,
          11.60119647613194,
          36.73684210526316,
          369.9,
          171.75725522666116,
          74.56655620909618,
          110.88052631578947,
          269.4357333442798,
          32.86651928340611,
          19.543786176370446,
          71.18506928922665,
          22.18228055783429,
          34.61233375363193,
          280.0916707708019,
          294.1457142857143,
          756.0740863787375,
          52.24579616266076,
          22.045136259151487,
          41.3306428498311
         ],
         "yaxis": "y"
        }
       ],
       "layout": {
        "coloraxis": {
         "colorbar": {
          "title": {
           "text": "color"
          }
         },
         "colorscale": [
          [
           0,
           "#0d0887"
          ],
          [
           0.1111111111111111,
           "#46039f"
          ],
          [
           0.2222222222222222,
           "#7201a8"
          ],
          [
           0.3333333333333333,
           "#9c179e"
          ],
          [
           0.4444444444444444,
           "#bd3786"
          ],
          [
           0.5555555555555556,
           "#d8576b"
          ],
          [
           0.6666666666666666,
           "#ed7953"
          ],
          [
           0.7777777777777778,
           "#fb9f3a"
          ],
          [
           0.8888888888888888,
           "#fdca26"
          ],
          [
           1,
           "#f0f921"
          ]
         ],
         "showscale": false
        },
        "legend": {
         "tracegroupgap": 0
        },
        "margin": {
         "t": 60
        },
        "template": {
         "data": {
          "bar": [
           {
            "error_x": {
             "color": "#2a3f5f"
            },
            "error_y": {
             "color": "#2a3f5f"
            },
            "marker": {
             "line": {
              "color": "#E5ECF6",
              "width": 0.5
             },
             "pattern": {
              "fillmode": "overlay",
              "size": 10,
              "solidity": 0.2
             }
            },
            "type": "bar"
           }
          ],
          "barpolar": [
           {
            "marker": {
             "line": {
              "color": "#E5ECF6",
              "width": 0.5
             },
             "pattern": {
              "fillmode": "overlay",
              "size": 10,
              "solidity": 0.2
             }
            },
            "type": "barpolar"
           }
          ],
          "carpet": [
           {
            "aaxis": {
             "endlinecolor": "#2a3f5f",
             "gridcolor": "white",
             "linecolor": "white",
             "minorgridcolor": "white",
             "startlinecolor": "#2a3f5f"
            },
            "baxis": {
             "endlinecolor": "#2a3f5f",
             "gridcolor": "white",
             "linecolor": "white",
             "minorgridcolor": "white",
             "startlinecolor": "#2a3f5f"
            },
            "type": "carpet"
           }
          ],
          "choropleth": [
           {
            "colorbar": {
             "outlinewidth": 0,
             "ticks": ""
            },
            "type": "choropleth"
           }
          ],
          "contour": [
           {
            "colorbar": {
             "outlinewidth": 0,
             "ticks": ""
            },
            "colorscale": [
             [
              0,
              "#0d0887"
             ],
             [
              0.1111111111111111,
              "#46039f"
             ],
             [
              0.2222222222222222,
              "#7201a8"
             ],
             [
              0.3333333333333333,
              "#9c179e"
             ],
             [
              0.4444444444444444,
              "#bd3786"
             ],
             [
              0.5555555555555556,
              "#d8576b"
             ],
             [
              0.6666666666666666,
              "#ed7953"
             ],
             [
              0.7777777777777778,
              "#fb9f3a"
             ],
             [
              0.8888888888888888,
              "#fdca26"
             ],
             [
              1,
              "#f0f921"
             ]
            ],
            "type": "contour"
           }
          ],
          "contourcarpet": [
           {
            "colorbar": {
             "outlinewidth": 0,
             "ticks": ""
            },
            "type": "contourcarpet"
           }
          ],
          "heatmap": [
           {
            "colorbar": {
             "outlinewidth": 0,
             "ticks": ""
            },
            "colorscale": [
             [
              0,
              "#0d0887"
             ],
             [
              0.1111111111111111,
              "#46039f"
             ],
             [
              0.2222222222222222,
              "#7201a8"
             ],
             [
              0.3333333333333333,
              "#9c179e"
             ],
             [
              0.4444444444444444,
              "#bd3786"
             ],
             [
              0.5555555555555556,
              "#d8576b"
             ],
             [
              0.6666666666666666,
              "#ed7953"
             ],
             [
              0.7777777777777778,
              "#fb9f3a"
             ],
             [
              0.8888888888888888,
              "#fdca26"
             ],
             [
              1,
              "#f0f921"
             ]
            ],
            "type": "heatmap"
           }
          ],
          "heatmapgl": [
           {
            "colorbar": {
             "outlinewidth": 0,
             "ticks": ""
            },
            "colorscale": [
             [
              0,
              "#0d0887"
             ],
             [
              0.1111111111111111,
              "#46039f"
             ],
             [
              0.2222222222222222,
              "#7201a8"
             ],
             [
              0.3333333333333333,
              "#9c179e"
             ],
             [
              0.4444444444444444,
              "#bd3786"
             ],
             [
              0.5555555555555556,
              "#d8576b"
             ],
             [
              0.6666666666666666,
              "#ed7953"
             ],
             [
              0.7777777777777778,
              "#fb9f3a"
             ],
             [
              0.8888888888888888,
              "#fdca26"
             ],
             [
              1,
              "#f0f921"
             ]
            ],
            "type": "heatmapgl"
           }
          ],
          "histogram": [
           {
            "marker": {
             "pattern": {
              "fillmode": "overlay",
              "size": 10,
              "solidity": 0.2
             }
            },
            "type": "histogram"
           }
          ],
          "histogram2d": [
           {
            "colorbar": {
             "outlinewidth": 0,
             "ticks": ""
            },
            "colorscale": [
             [
              0,
              "#0d0887"
             ],
             [
              0.1111111111111111,
              "#46039f"
             ],
             [
              0.2222222222222222,
              "#7201a8"
             ],
             [
              0.3333333333333333,
              "#9c179e"
             ],
             [
              0.4444444444444444,
              "#bd3786"
             ],
             [
              0.5555555555555556,
              "#d8576b"
             ],
             [
              0.6666666666666666,
              "#ed7953"
             ],
             [
              0.7777777777777778,
              "#fb9f3a"
             ],
             [
              0.8888888888888888,
              "#fdca26"
             ],
             [
              1,
              "#f0f921"
             ]
            ],
            "type": "histogram2d"
           }
          ],
          "histogram2dcontour": [
           {
            "colorbar": {
             "outlinewidth": 0,
             "ticks": ""
            },
            "colorscale": [
             [
              0,
              "#0d0887"
             ],
             [
              0.1111111111111111,
              "#46039f"
             ],
             [
              0.2222222222222222,
              "#7201a8"
             ],
             [
              0.3333333333333333,
              "#9c179e"
             ],
             [
              0.4444444444444444,
              "#bd3786"
             ],
             [
              0.5555555555555556,
              "#d8576b"
             ],
             [
              0.6666666666666666,
              "#ed7953"
             ],
             [
              0.7777777777777778,
              "#fb9f3a"
             ],
             [
              0.8888888888888888,
              "#fdca26"
             ],
             [
              1,
              "#f0f921"
             ]
            ],
            "type": "histogram2dcontour"
           }
          ],
          "mesh3d": [
           {
            "colorbar": {
             "outlinewidth": 0,
             "ticks": ""
            },
            "type": "mesh3d"
           }
          ],
          "parcoords": [
           {
            "line": {
             "colorbar": {
              "outlinewidth": 0,
              "ticks": ""
             }
            },
            "type": "parcoords"
           }
          ],
          "pie": [
           {
            "automargin": true,
            "type": "pie"
           }
          ],
          "scatter": [
           {
            "fillpattern": {
             "fillmode": "overlay",
             "size": 10,
             "solidity": 0.2
            },
            "type": "scatter"
           }
          ],
          "scatter3d": [
           {
            "line": {
             "colorbar": {
              "outlinewidth": 0,
              "ticks": ""
             }
            },
            "marker": {
             "colorbar": {
              "outlinewidth": 0,
              "ticks": ""
             }
            },
            "type": "scatter3d"
           }
          ],
          "scattercarpet": [
           {
            "marker": {
             "colorbar": {
              "outlinewidth": 0,
              "ticks": ""
             }
            },
            "type": "scattercarpet"
           }
          ],
          "scattergeo": [
           {
            "marker": {
             "colorbar": {
              "outlinewidth": 0,
              "ticks": ""
             }
            },
            "type": "scattergeo"
           }
          ],
          "scattergl": [
           {
            "marker": {
             "colorbar": {
              "outlinewidth": 0,
              "ticks": ""
             }
            },
            "type": "scattergl"
           }
          ],
          "scattermapbox": [
           {
            "marker": {
             "colorbar": {
              "outlinewidth": 0,
              "ticks": ""
             }
            },
            "type": "scattermapbox"
           }
          ],
          "scatterpolar": [
           {
            "marker": {
             "colorbar": {
              "outlinewidth": 0,
              "ticks": ""
             }
            },
            "type": "scatterpolar"
           }
          ],
          "scatterpolargl": [
           {
            "marker": {
             "colorbar": {
              "outlinewidth": 0,
              "ticks": ""
             }
            },
            "type": "scatterpolargl"
           }
          ],
          "scatterternary": [
           {
            "marker": {
             "colorbar": {
              "outlinewidth": 0,
              "ticks": ""
             }
            },
            "type": "scatterternary"
           }
          ],
          "surface": [
           {
            "colorbar": {
             "outlinewidth": 0,
             "ticks": ""
            },
            "colorscale": [
             [
              0,
              "#0d0887"
             ],
             [
              0.1111111111111111,
              "#46039f"
             ],
             [
              0.2222222222222222,
              "#7201a8"
             ],
             [
              0.3333333333333333,
              "#9c179e"
             ],
             [
              0.4444444444444444,
              "#bd3786"
             ],
             [
              0.5555555555555556,
              "#d8576b"
             ],
             [
              0.6666666666666666,
              "#ed7953"
             ],
             [
              0.7777777777777778,
              "#fb9f3a"
             ],
             [
              0.8888888888888888,
              "#fdca26"
             ],
             [
              1,
              "#f0f921"
             ]
            ],
            "type": "surface"
           }
          ],
          "table": [
           {
            "cells": {
             "fill": {
              "color": "#EBF0F8"
             },
             "line": {
              "color": "white"
             }
            },
            "header": {
             "fill": {
              "color": "#C8D4E3"
             },
             "line": {
              "color": "white"
             }
            },
            "type": "table"
           }
          ]
         },
         "layout": {
          "annotationdefaults": {
           "arrowcolor": "#2a3f5f",
           "arrowhead": 0,
           "arrowwidth": 1
          },
          "autotypenumbers": "strict",
          "coloraxis": {
           "colorbar": {
            "outlinewidth": 0,
            "ticks": ""
           }
          },
          "colorscale": {
           "diverging": [
            [
             0,
             "#8e0152"
            ],
            [
             0.1,
             "#c51b7d"
            ],
            [
             0.2,
             "#de77ae"
            ],
            [
             0.3,
             "#f1b6da"
            ],
            [
             0.4,
             "#fde0ef"
            ],
            [
             0.5,
             "#f7f7f7"
            ],
            [
             0.6,
             "#e6f5d0"
            ],
            [
             0.7,
             "#b8e186"
            ],
            [
             0.8,
             "#7fbc41"
            ],
            [
             0.9,
             "#4d9221"
            ],
            [
             1,
             "#276419"
            ]
           ],
           "sequential": [
            [
             0,
             "#0d0887"
            ],
            [
             0.1111111111111111,
             "#46039f"
            ],
            [
             0.2222222222222222,
             "#7201a8"
            ],
            [
             0.3333333333333333,
             "#9c179e"
            ],
            [
             0.4444444444444444,
             "#bd3786"
            ],
            [
             0.5555555555555556,
             "#d8576b"
            ],
            [
             0.6666666666666666,
             "#ed7953"
            ],
            [
             0.7777777777777778,
             "#fb9f3a"
            ],
            [
             0.8888888888888888,
             "#fdca26"
            ],
            [
             1,
             "#f0f921"
            ]
           ],
           "sequentialminus": [
            [
             0,
             "#0d0887"
            ],
            [
             0.1111111111111111,
             "#46039f"
            ],
            [
             0.2222222222222222,
             "#7201a8"
            ],
            [
             0.3333333333333333,
             "#9c179e"
            ],
            [
             0.4444444444444444,
             "#bd3786"
            ],
            [
             0.5555555555555556,
             "#d8576b"
            ],
            [
             0.6666666666666666,
             "#ed7953"
            ],
            [
             0.7777777777777778,
             "#fb9f3a"
            ],
            [
             0.8888888888888888,
             "#fdca26"
            ],
            [
             1,
             "#f0f921"
            ]
           ]
          },
          "colorway": [
           "#636efa",
           "#EF553B",
           "#00cc96",
           "#ab63fa",
           "#FFA15A",
           "#19d3f3",
           "#FF6692",
           "#B6E880",
           "#FF97FF",
           "#FECB52"
          ],
          "font": {
           "color": "#2a3f5f"
          },
          "geo": {
           "bgcolor": "white",
           "lakecolor": "white",
           "landcolor": "#E5ECF6",
           "showlakes": true,
           "showland": true,
           "subunitcolor": "white"
          },
          "hoverlabel": {
           "align": "left"
          },
          "hovermode": "closest",
          "mapbox": {
           "style": "light"
          },
          "paper_bgcolor": "white",
          "plot_bgcolor": "#E5ECF6",
          "polar": {
           "angularaxis": {
            "gridcolor": "white",
            "linecolor": "white",
            "ticks": ""
           },
           "bgcolor": "#E5ECF6",
           "radialaxis": {
            "gridcolor": "white",
            "linecolor": "white",
            "ticks": ""
           }
          },
          "scene": {
           "xaxis": {
            "backgroundcolor": "#E5ECF6",
            "gridcolor": "white",
            "gridwidth": 2,
            "linecolor": "white",
            "showbackground": true,
            "ticks": "",
            "zerolinecolor": "white"
           },
           "yaxis": {
            "backgroundcolor": "#E5ECF6",
            "gridcolor": "white",
            "gridwidth": 2,
            "linecolor": "white",
            "showbackground": true,
            "ticks": "",
            "zerolinecolor": "white"
           },
           "zaxis": {
            "backgroundcolor": "#E5ECF6",
            "gridcolor": "white",
            "gridwidth": 2,
            "linecolor": "white",
            "showbackground": true,
            "ticks": "",
            "zerolinecolor": "white"
           }
          },
          "shapedefaults": {
           "line": {
            "color": "#2a3f5f"
           }
          },
          "ternary": {
           "aaxis": {
            "gridcolor": "white",
            "linecolor": "white",
            "ticks": ""
           },
           "baxis": {
            "gridcolor": "white",
            "linecolor": "white",
            "ticks": ""
           },
           "bgcolor": "#E5ECF6",
           "caxis": {
            "gridcolor": "white",
            "linecolor": "white",
            "ticks": ""
           }
          },
          "title": {
           "x": 0.05
          },
          "xaxis": {
           "automargin": true,
           "gridcolor": "white",
           "linecolor": "white",
           "ticks": "",
           "title": {
            "standoff": 15
           },
           "zerolinecolor": "white",
           "zerolinewidth": 2
          },
          "yaxis": {
           "automargin": true,
           "gridcolor": "white",
           "linecolor": "white",
           "ticks": "",
           "title": {
            "standoff": 15
           },
           "zerolinecolor": "white",
           "zerolinewidth": 2
          }
         }
        },
        "xaxis": {
         "anchor": "y",
         "domain": [
          0,
          1
         ],
         "title": {
          "text": "GDP per capita"
         }
        },
        "yaxis": {
         "anchor": "x",
         "domain": [
          0,
          1
         ],
         "title": {
          "text": "Population density"
         }
        }
       }
      }
     },
     "metadata": {},
     "output_type": "display_data"
    }
   ],
   "source": [
    "import plotly.express as px\n",
    "fig = px.scatter(dataset,x  ='GDP per capita', y = 'Population density',\n",
    "    color = kmeans.labels_,hover_data = ['Country Name','Region'])\n",
    "fig.update(layout_coloraxis_showscale=False)\n",
    "fig.show()"
   ]
  },
  {
   "cell_type": "markdown",
   "metadata": {},
   "source": [
    "Тепер давайте візуалізуємо частоти всіх показників у вигляді гістограм, використовуючи цикл. "
   ]
  },
  {
   "cell_type": "code",
   "execution_count": 22,
   "metadata": {},
   "outputs": [
    {
     "data": {
      "image/png": "[encoded data removed]",
      "text/plain": [
       "<Figure size 1080x1080 with 6 Axes>"
      ]
     },
     "metadata": {
      "needs_background": "light"
     },
     "output_type": "display_data"
    }
   ],
   "source": [
    "fig, axes = plt.subplots(2,3,figsize=(15,15))\n",
    "\n",
    "labels = dataset.columns[2:]\n",
    "for i in range(5):\n",
    "    axes[i//3][i%3].set_title(labels[i])\n",
    "    axes[i//3][i%3].hist(dataset[labels[i]])\n",
    "axes[1][2].set_title('Region')\n",
    "axes[1][2] = dataset['Region'].value_counts().plot(kind='bar')\n",
    "plt.show()"
   ]
  },
  {
   "cell_type": "markdown",
   "metadata": {},
   "source": [
    "Тепер давайте напишемо функцію для перевірки лінійної залежності між наборами даних."
   ]
  },
  {
   "cell_type": "code",
   "execution_count": 23,
   "metadata": {},
   "outputs": [
    {
     "name": "stdout",
     "output_type": "stream",
     "text": [
      "[[ 1.         -0.95752618]\n",
      " [-0.95752618  1.        ]]\n"
     ]
    },
    {
     "data": {
      "text/plain": [
       "True"
      ]
     },
     "execution_count": 23,
     "metadata": {},
     "output_type": "execute_result"
    }
   ],
   "source": [
    "def isCorr(x,y):\n",
    "    print(np.corrcoef(x,y))\n",
    "    return abs(np.corrcoef(x,y)[0,1])>0.8\n",
    "x = np.random.randint(0, 100, 100)\n",
    "y = -x + np.random.normal(0, 10, 100)\n",
    "\n",
    "isCorr(x,y)"
   ]
  },
  {
   "cell_type": "markdown",
   "metadata": {},
   "source": [
    "Як бачимо, згенеровані дані досить сильно лінійно залежні, адже абсолютні значення x генеруються, в основному, значно більші за y та y залежить від значень x. "
   ]
  }
 ],
 "metadata": {
  "interpreter": {
   "hash": "cd33f47137b00f9a3c223ad7cd7ea8009173bfffa8c9627ff61bae578e5b56e2"
  },
  "kernelspec": {
   "display_name": "Python 3.10.4 64-bit",
   "language": "python",
   "name": "python3"
  },
  "language_info": {
   "codemirror_mode": {
    "name": "ipython",
    "version": 3
   },
   "file_extension": ".py",
   "mimetype": "text/x-python",
   "name": "python",
   "nbconvert_exporter": "python",
   "pygments_lexer": "ipython3",
   "version": "3.10.4"
  },
  "orig_nbformat": 4
 },
 "nbformat": 4,
 "nbformat_minor": 2
}
